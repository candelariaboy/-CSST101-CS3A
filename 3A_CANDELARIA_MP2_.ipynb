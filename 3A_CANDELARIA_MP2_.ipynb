{
  "nbformat": 4,
  "nbformat_minor": 0,
  "metadata": {
    "colab": {
      "provenance": []
    },
    "kernelspec": {
      "name": "python3",
      "display_name": "Python 3"
    },
    "language_info": {
      "name": "python"
    }
  },
  "cells": [
    {
      "cell_type": "markdown",
      "source": [
        "# **1. Propositional Logic Operations:**"
      ],
      "metadata": {
        "id": "nZpoT8wK0P7Y"
      }
    },
    {
      "cell_type": "code",
      "source": [
        "def AND(p, q):\n",
        "    return p and q\n",
        "\n",
        "def OR(p, q):\n",
        "    return p or q\n",
        "\n",
        "def NOT(p):\n",
        "    return not p\n",
        "\n",
        "def IMPLIES(p, q):\n",
        "    return (not p) or q"
      ],
      "metadata": {
        "id": "kt4nFTWy0Km4"
      },
      "execution_count": null,
      "outputs": []
    },
    {
      "cell_type": "markdown",
      "source": [
        "# **2. Testing Propositional Logic Functions**"
      ],
      "metadata": {
        "id": "txVjVIl20piV"
      }
    },
    {
      "cell_type": "code",
      "source": [
        "print(and_operation(True, False))  # Expected: False\n",
        "print(or_operation(True, False))   # Expected: True\n",
        "print(not_operation(True))          # Expected: False\n",
        "print(implies_operation(True, False))  # Expected: False"
      ],
      "metadata": {
        "colab": {
          "base_uri": "https://localhost:8080/"
        },
        "id": "QNLdSLAK07Vo",
        "outputId": "8a95d209-6375-4e8c-8a29-60c09ef14071"
      },
      "execution_count": null,
      "outputs": [
        {
          "output_type": "stream",
          "name": "stdout",
          "text": [
            "False\n",
            "True\n",
            "False\n",
            "False\n"
          ]
        }
      ]
    },
    {
      "cell_type": "markdown",
      "source": [
        "# **3. Evaluate Logical Statements**"
      ],
      "metadata": {
        "id": "TvsPFWBZ1Luq"
      }
    },
    {
      "cell_type": "code",
      "source": [
        "def evaluate(statement, values):\n",
        "    statement = statement.replace('and', ' and ').replace('or', ' or ').replace('not', ' not ').replace('=>', ' or not ')\n",
        "    for var, val in values.items():\n",
        "        statement = statement.replace(var, str(val))\n",
        "    return eval(statement)"
      ],
      "metadata": {
        "id": "tKaD4M_w1P32"
      },
      "execution_count": null,
      "outputs": []
    },
    {
      "cell_type": "markdown",
      "source": [
        "# **4. Testing the Evaluation Function**"
      ],
      "metadata": {
        "id": "_Ejv5VeK143b"
      }
    },
    {
      "cell_type": "code",
      "source": [
        "print(evaluate('A and B', {'A': True, 'B': False}))  # Expected: False\n",
        "print(evaluate('A or B', {'A': True, 'B': False}))   # Expected: True\n",
        "print(evaluate('not A', {'A': True}))                 # Expected: False\n",
        "print(evaluate('A => B', {'A': True, 'B': False}))    # Expected: False"
      ],
      "metadata": {
        "colab": {
          "base_uri": "https://localhost:8080/"
        },
        "id": "c1Z-r0Jc190I",
        "outputId": "be96ea40-1fb0-4f0e-9bfc-b3013b4f9436"
      },
      "execution_count": null,
      "outputs": [
        {
          "output_type": "stream",
          "name": "stdout",
          "text": [
            "False\n",
            "True\n",
            "False\n",
            "True\n"
          ]
        }
      ]
    },
    {
      "cell_type": "markdown",
      "source": [
        "# **5. Extend to Predicate Logic**"
      ],
      "metadata": {
        "id": "wYaqANm12GYu"
      }
    },
    {
      "cell_type": "code",
      "source": [
        "def forall(predicate, domain):\n",
        "    return all(predicate(x) for x in domain)\n",
        "\n",
        "def exists(predicate, domain):\n",
        "    return any(predicate(x) for x in domain)"
      ],
      "metadata": {
        "id": "oAeTcsPi2OAt"
      },
      "execution_count": null,
      "outputs": []
    },
    {
      "cell_type": "markdown",
      "source": [
        "# **6. Testing Predicate Logic Functions**"
      ],
      "metadata": {
        "id": "0oXdkFEY2cTE"
      }
    },
    {
      "cell_type": "code",
      "source": [
        "predicate = lambda x: x > 0\n",
        "domain = [1, 2, 3, -1, -2]\n",
        "\n",
        "print(forall(predicate, domain))  # Expected: False (because not all positive)\n",
        "print(exists(predicate, domain))  # Expected: True (because is there are positive numbers)"
      ],
      "metadata": {
        "colab": {
          "base_uri": "https://localhost:8080/"
        },
        "id": "T9zpLA2a2fVR",
        "outputId": "59adde44-3fb0-412a-da74-f03abbfcc6cf"
      },
      "execution_count": null,
      "outputs": [
        {
          "output_type": "stream",
          "name": "stdout",
          "text": [
            "False\n",
            "True\n"
          ]
        }
      ]
    },
    {
      "cell_type": "markdown",
      "source": [
        "# **7. AI Agent Development**"
      ],
      "metadata": {
        "id": "Ey713V-p2oCX"
      }
    },
    {
      "cell_type": "code",
      "source": [
        "class SimpleAIAgent:\n",
        "    def __init__(self):\n",
        "        self.condition = True  # Example condition\n",
        "\n",
        "    def make_decision(self):\n",
        "        if and_operation(self.condition, True):  # Simple logic\n",
        "            return 'Take action A'\n",
        "        else:\n",
        "            return 'Take action B'\n",
        "\n",
        "# Create an AI agent instance\n",
        "agent = SimpleAIAgent()\n",
        "\n",
        "# Make a decision\n",
        "print(agent.make_decision())  # Expected: 'Take action A'"
      ],
      "metadata": {
        "colab": {
          "base_uri": "https://localhost:8080/"
        },
        "id": "FE5VkYyb2u1x",
        "outputId": "af67d6cb-9ac8-410f-af35-21e5e73dc7f2"
      },
      "execution_count": null,
      "outputs": [
        {
          "output_type": "stream",
          "name": "stdout",
          "text": [
            "Take action A\n"
          ]
        }
      ]
    },
    {
      "cell_type": "markdown",
      "source": [
        "# **PYTHON SCRIPTS: EXPLANATION IN THE FUNCTION**"
      ],
      "metadata": {
        "id": "XN8fGOoS3pj3"
      }
    },
    {
      "cell_type": "code",
      "source": [
        "# Implementation of Logic Functions and AI Agent\n",
        "\n",
        "def and_operation(p, q):\n",
        "    \"\"\"Returns the result of the logical conjunction of p and q.\"\"\"\n",
        "    return p and q\n",
        "\n",
        "def or_operation(p, q):\n",
        "    \"\"\"Returns the result of the logical disjunction of p and q.\"\"\"\n",
        "    return p or q\n",
        "\n",
        "def not_operation(p):\n",
        "    \"\"\"Returns the result of the logical negation of p.\"\"\"\n",
        "    return not p\n",
        "\n",
        "def implies_operation(p, q):\n",
        "    \"\"\"Returns the result of the logical implication from p to q.\"\"\"\n",
        "    return not p or q\n",
        "\n",
        "def evaluate(statement, values):\n",
        "    \"\"\"\n",
        "    Evaluates a logical expression based on the provided truth values.\n",
        "\n",
        "    Args:\n",
        "    statement (str): A logical expression represented as a string.\n",
        "    values (dict): A dictionary that maps propositions to their truth values.\n",
        "\n",
        "    Returns:\n",
        "    bool: The truth value of the evaluated statement.\n",
        "    \"\"\"\n",
        "    statement = statement.replace('and', ' and ').replace('or', ' or ').replace('not', ' not ').replace('=>', ' or not ')\n",
        "    for var, val in values.items():\n",
        "        statement = statement.replace(var, str(val))\n",
        "    return eval(statement)\n",
        "\n",
        "def forall(predicate, domain):\n",
        "    \"\"\"Checks if a predicate holds true for every element in the domain.\"\"\"\n",
        "    return all(predicate(x) for x in domain)\n",
        "\n",
        "def exists(predicate, domain):\n",
        "    \"\"\"Checks if there is at least one element in the domain for which the predicate is true.\"\"\"\n",
        "    return any(predicate(x) for x in domain)\n",
        "\n",
        "class SimpleAIAgent:\n",
        "    def __init__(self):\n",
        "        \"\"\"Initializes the AI agent with a default condition.\"\"\"\n",
        "        self.condition = True  # Example condition\n",
        "\n",
        "    def make_decision(self):\n",
        "        \"\"\"Makes a decision based on the current condition.\"\"\"\n",
        "        if and_operation(self.condition, True):  # Simple logic\n",
        "            return 'Take action A'\n",
        "        else:\n",
        "            return 'Take action B'\n",
        "\n",
        "# Example Usage\n",
        "if __name__ == \"__main__\":\n",
        "    # Testing logic functions\n",
        "    print(and_operation(True, False))  # Expected: False\n",
        "    print(or_operation(True, False))   # Expected: True\n",
        "    print(not_operation(True))          # Expected: False\n",
        "    print(implies_operation(True, False))  # Expected: False\n",
        "\n",
        "    # Testing evaluation function\n",
        "    print(evaluate('A and B', {'A': True, 'B': False}))  # Expected: False\n",
        "    print(evaluate('A or B', {'A': True, 'B': False}))   # Expected: True\n",
        "\n",
        "    # Testing predicate logic\n",
        "    predicate = lambda x: x > 0\n",
        "    domain = [1, 2, 3, -1, -2]\n",
        "    print(forall(predicate, domain))  # Expected: False\n",
        "    print(exists(predicate, domain))  # Expected: True\n",
        "\n",
        "    # AI Agent Decision\n",
        "    agent = SimpleAIAgent()\n",
        "    print(agent.make_decision())  # Expected: 'Take action A'"
      ],
      "metadata": {
        "colab": {
          "base_uri": "https://localhost:8080/"
        },
        "id": "h7_k0L2A3yh7",
        "outputId": "c31d9f0b-3aeb-4781-9886-bd36be84ad17"
      },
      "execution_count": null,
      "outputs": [
        {
          "output_type": "stream",
          "name": "stdout",
          "text": [
            "False\n",
            "True\n",
            "False\n",
            "False\n",
            "False\n",
            "True\n",
            "False\n",
            "True\n",
            "Take action A\n"
          ]
        }
      ]
    }
  ]
}