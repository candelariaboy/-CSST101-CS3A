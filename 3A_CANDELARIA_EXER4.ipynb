{
  "cells": [
    {
      "cell_type": "code",
      "source": [
        "# Importing necessary libraries\n",
        "import numpy as np\n",
        "import pandas as pd\n",
        "from pgmpy.models import BayesianModel\n",
        "from pgmpy.inference import VariableElimination\n",
        "from pgmpy.factors.discrete import TabularCPD\n",
        "import networkx as nx\n",
        "import matplotlib.pyplot as plt\n",
        "\n",
        "# Step 1: Define the Structure of the Bayesian Network\n",
        "model = BayesianModel([('Weather', 'Traffic'), ('Traffic', 'Late')])\n",
        "\n",
        "# Step 2: Define Conditional Probability Tables (CPTs)\n",
        "# Weather CPD\n",
        "cpd_weather = TabularCPD(variable='Weather', variable_card=2, values=[[0.7], [0.3]])  # 70% Sunny, 30% Rainy\n",
        "\n",
        "# Traffic CPD given Weather\n",
        "cpd_traffic = TabularCPD(variable='Traffic', variable_card=2,\n",
        "                         values=[[0.8, 0.4],  # Light traffic given Sunny, Rainy\n",
        "                                 [0.2, 0.6]],\n",
        "                         evidence=['Weather'],\n",
        "                         evidence_card=[2])\n",
        "\n",
        "# Late CPD given Traffic\n",
        "cpd_late = TabularCPD(variable='Late', variable_card=2,\n",
        "                      values=[[0.9, 0.6],  # On Time given Light, Heavy traffic\n",
        "                              [0.1, 0.4]],\n",
        "                      evidence=['Traffic'],\n",
        "                      evidence_card=[2])\n",
        "\n",
        "# Adding CPDs to the model\n",
        "model.add_cpds(cpd_weather, cpd_traffic, cpd_late)\n",
        "\n",
        "# Step 3: Verify the model\n",
        "assert model.check_model()\n",
        "\n",
        "# Step 4: Perform Exact Inference\n",
        "inference = VariableElimination(model)\n",
        "prob_late_given_rainy = inference.query(variables=['Late'], evidence={'Weather': 1})  # Weather = Rainy is represented by 1\n",
        "\n",
        "print(prob_late_given_rainy)\n",
        "\n",
        "# Step 5: Simulate a Dataset for Parameter Learning\n",
        "data = pd.DataFrame(data={\n",
        "    'Weather': np.random.choice(['Sunny', 'Rainy'], size=1000, p=[0.7, 0.3]),\n",
        "    'Traffic': np.random.choice(['Light', 'Heavy'], size=1000),\n",
        "    'Late': np.random.choice(['On Time', 'Late'], size=1000)\n",
        "})\n",
        "\n",
        "# Adjusting Traffic based on Weather for simulation purposes\n",
        "data.loc[data['Weather'] == 'Sunny', 'Traffic'] = np.random.choice(['Light', 'Heavy'], size=data[data['Weather'] == 'Sunny'].shape[0], p=[0.8, 0.2])\n",
        "data.loc[data['Weather'] == 'Rainy', 'Traffic'] = np.random.choice(['Light', 'Heavy'], size=data[data['Weather'] == 'Rainy'].shape[0], p=[0.4, 0.6])\n",
        "\n",
        "# Adjusting Late based on Traffic for simulation purposes\n",
        "data.loc[data['Traffic'] == 'Light', 'Late'] = np.random.choice(['On Time', 'Late'], size=data[data['Traffic'] == 'Light'].shape[0], p=[0.9, 0.1])\n",
        "data.loc[data['Traffic'] == 'Heavy', 'Late'] = np.random.choice(['On Time', 'Late'], size=data[data['Traffic'] == 'Heavy'].shape[0], p=[0.6, 0.4])\n",
        "\n",
        "# Step 6: Estimate Parameters using Maximum Likelihood Estimation\n",
        "from pgmpy.estimators import MaximumLikelihoodEstimator\n",
        "\n",
        "model.fit(data, estimator=MaximumLikelihoodEstimator)\n",
        "\n",
        "# Step 7: Visualize the Network Structure\n",
        "pos = nx.spring_layout(model)\n",
        "plt.title(\"Bayesian Network Structure\")\n",
        "plt.show()"
      ],
      "metadata": {
        "colab": {
          "base_uri": "https://localhost:8080/",
          "height": 678
        },
        "id": "UB4tv5V6Po0Z",
        "outputId": "2529a66e-d535-43e5-ba4a-62bc7f684a72"
      },
      "execution_count": null,
      "outputs": [
        {
          "output_type": "stream",
          "name": "stderr",
          "text": [
            "WARNING:pgmpy:BayesianModel has been renamed to BayesianNetwork. Please use BayesianNetwork class, BayesianModel will be removed in future.\n",
            "WARNING:pgmpy:BayesianModel has been renamed to BayesianNetwork. Please use BayesianNetwork class, BayesianModel will be removed in future.\n",
            "WARNING:pgmpy:BayesianModel has been renamed to BayesianNetwork. Please use BayesianNetwork class, BayesianModel will be removed in future.\n",
            "WARNING:pgmpy:Replacing existing CPD for Weather\n",
            "WARNING:pgmpy:Replacing existing CPD for Traffic\n",
            "WARNING:pgmpy:Replacing existing CPD for Late\n"
          ]
        },
        {
          "output_type": "stream",
          "name": "stdout",
          "text": [
            "+---------+-------------+\n",
            "| Late    |   phi(Late) |\n",
            "+=========+=============+\n",
            "| Late(0) |      0.7200 |\n",
            "+---------+-------------+\n",
            "| Late(1) |      0.2800 |\n",
            "+---------+-------------+\n"
          ]
        },
        {
          "output_type": "display_data",
          "data": {
            "text/plain": [
              "<Figure size 640x480 with 1 Axes>"
            ],
            "image/png": "[encoded data removed]"
          },
          "metadata": {}
        }
      ]
    }
  ],
  "metadata": {
    "colab": {
      "toc_visible": true,
      "provenance": []
    },
    "kernelspec": {
      "display_name": "Python 3",
      "name": "python3"
    }
  },
  "nbformat": 4,
  "nbformat_minor": 0
}